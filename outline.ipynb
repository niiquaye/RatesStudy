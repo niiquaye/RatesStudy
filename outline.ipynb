{
 "cells": [
  {
   "cell_type": "markdown",
   "metadata": {},
   "source": [
    "Core Rates Study Outline:\n",
    "1. Duration\n",
    "2. Yield to Maturity\n",
    "3. Inverted Yield Curve\n",
    "4. Treasury Futures\n",
    "5. Treasury Futures Duration\n",
    "6. Inflation Swaps\n",
    "7. Fed Funds Futures\n",
    "8. End of Month Rebalancing\n",
    "9. Composition of Credit ETFS - HYG, LQD, EMB\n",
    "\n",
    "Rates Market Making Study Outline: \n",
    "1. Basis Trading\n",
    "2. Recent Theme of Long End Treasuries being sold off due to fed sentiment \"higher for longer\"\n",
    "3. What happened to rates when the US was downgraded last (2010 or 2013 idk)\n",
    "\n",
    "Citisec Rates Specific:\n",
    "1. US Treasuries\n",
    "2. Cash Treasuries Markets (are Fragmented)\n",
    "    1. Chat\\Negotiation\\Rfq\n",
    "    2. Not very electronically systematic\n",
    "    3. Treasury Futures much more liquid\n",
    "        1. But not exactly the same duration match\n",
    "    4. Futures settle into a basket of bonds, and futures are usually priced off lowest   duration deliverable\n",
    "    5. US Treasuries are sold every few days by US gov via Dutch Auction Process\n",
    "    6. Dutch Auction Process\n",
    "\n",
    "Probability/Statistics/Brainteasers:\n",
    "1. Quantguide.io (citadel specific questions)\n",
    "2. Heard on the Street (chapters: 1)\n",
    "3. Green Book (chapters: 2, 4, parts of 3) \n",
    "\n",
    "Books:\n",
    "1. Futures, Options, and Other Derivatives (chapters: interest rates options)\n"
   ]
  }
 ],
 "metadata": {
  "language_info": {
   "name": "python"
  }
 },
 "nbformat": 4,
 "nbformat_minor": 2
}
